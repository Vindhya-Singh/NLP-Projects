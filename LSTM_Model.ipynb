{
  "nbformat": 4,
  "nbformat_minor": 0,
  "metadata": {
    "colab": {
      "name": "LSTM_Model.ipynb",
      "provenance": [],
      "include_colab_link": true
    },
    "kernelspec": {
      "name": "python3",
      "display_name": "Python 3"
    }
  },
  "cells": [
    {
      "cell_type": "markdown",
      "metadata": {
        "id": "view-in-github",
        "colab_type": "text"
      },
      "source": [
        "<a href=\"https://colab.research.google.com/github/VindhyaSRajan/NLP-Projects/blob/master/LSTM_Model.ipynb\" target=\"_parent\"><img src=\"https://colab.research.google.com/assets/colab-badge.svg\" alt=\"Open In Colab\"/></a>"
      ]
    },
    {
      "cell_type": "markdown",
      "metadata": {
        "id": "kTHKnf1QHN3-",
        "colab_type": "text"
      },
      "source": [
        "##Imports Section"
      ]
    },
    {
      "cell_type": "code",
      "metadata": {
        "id": "8vlZ56qp6BLc",
        "colab_type": "code",
        "colab": {}
      },
      "source": [
        "from __future__ import unicode_literals, print_function, division\n",
        "from io import open\n",
        "import glob\n",
        "import os\n",
        "import unicodedata\n",
        "import string"
      ],
      "execution_count": 0,
      "outputs": []
    },
    {
      "cell_type": "code",
      "metadata": {
        "id": "Twl-vCKB_LyW",
        "colab_type": "code",
        "colab": {
          "base_uri": "https://localhost:8080/",
          "height": 35
        },
        "outputId": "e7216347-ee9e-4a0c-f6e9-19cb13387861"
      },
      "source": [
        "%pwd"
      ],
      "execution_count": 10,
      "outputs": [
        {
          "output_type": "execute_result",
          "data": {
            "text/plain": [
              "'/content'"
            ]
          },
          "metadata": {
            "tags": []
          },
          "execution_count": 10
        }
      ]
    },
    {
      "cell_type": "markdown",
      "metadata": {
        "id": "JMalwZfwHT2E",
        "colab_type": "text"
      },
      "source": [
        "##Reading the file"
      ]
    },
    {
      "cell_type": "code",
      "metadata": {
        "id": "qQvk-P8PAMak",
        "colab_type": "code",
        "colab": {}
      },
      "source": [
        "!unzip '/content/data.zip'"
      ],
      "execution_count": 0,
      "outputs": []
    },
    {
      "cell_type": "code",
      "metadata": {
        "id": "2DOCS9aG-7Pk",
        "colab_type": "code",
        "colab": {
          "base_uri": "https://localhost:8080/",
          "height": 55
        },
        "outputId": "4bec9891-0143-408a-83a1-59b4c79b0a24"
      },
      "source": [
        "def findFiles(path): return glob.glob(path)\n",
        "\n",
        "print(findFiles('/content/data/names/*.txt'))\n",
        "\n",
        "\n",
        "\n",
        "all_letters = string.ascii_letters + \" .,;'\"\n",
        "n_letters = len(all_letters)"
      ],
      "execution_count": 12,
      "outputs": [
        {
          "output_type": "stream",
          "text": [
            "['/content/data/names/Dutch.txt', '/content/data/names/Portuguese.txt', '/content/data/names/English.txt', '/content/data/names/Polish.txt', '/content/data/names/Korean.txt', '/content/data/names/Spanish.txt', '/content/data/names/Greek.txt', '/content/data/names/Scottish.txt', '/content/data/names/French.txt', '/content/data/names/Russian.txt', '/content/data/names/Vietnamese.txt', '/content/data/names/Arabic.txt', '/content/data/names/German.txt', '/content/data/names/Czech.txt', '/content/data/names/Japanese.txt', '/content/data/names/Irish.txt', '/content/data/names/Chinese.txt', '/content/data/names/Italian.txt']\n"
          ],
          "name": "stdout"
        }
      ]
    },
    {
      "cell_type": "code",
      "metadata": {
        "id": "t4YfkJka_Fno",
        "colab_type": "code",
        "colab": {
          "base_uri": "https://localhost:8080/",
          "height": 35
        },
        "outputId": "1ab603e9-9707-4530-bc07-a21b1ddf7e9a"
      },
      "source": [
        "# Turn a Unicode string to plain ASCII, thanks to https://stackoverflow.com/a/518232/2809427\n",
        "def unicodeToAscii(s):\n",
        "    return ''.join(\n",
        "        c for c in unicodedata.normalize('NFD', s)\n",
        "        if unicodedata.category(c) != 'Mn'\n",
        "        and c in all_letters\n",
        "    )\n",
        "\n",
        "print(unicodeToAscii('Ślusàrski'))"
      ],
      "execution_count": 13,
      "outputs": [
        {
          "output_type": "stream",
          "text": [
            "Slusarski\n"
          ],
          "name": "stdout"
        }
      ]
    },
    {
      "cell_type": "code",
      "metadata": {
        "id": "MyAA6HlY_JGS",
        "colab_type": "code",
        "colab": {}
      },
      "source": [
        "# Build the category_lines dictionary, a list of names per language\n",
        "category_lines = {}\n",
        "all_categories = []\n",
        "\n",
        "# Read a file and split into lines\n",
        "def readLines(filename):\n",
        "    lines = open(filename, encoding='utf-8').read().strip().split('\\n')\n",
        "    return [unicodeToAscii(line) for line in lines]\n",
        "\n",
        "for filename in findFiles('data/names/*.txt'):\n",
        "    category = os.path.splitext(os.path.basename(filename))[0]\n",
        "    all_categories.append(category)\n",
        "    lines = readLines(filename)\n",
        "    category_lines[category] = lines\n",
        "\n",
        "n_categories = len(all_categories)"
      ],
      "execution_count": 0,
      "outputs": []
    },
    {
      "cell_type": "code",
      "metadata": {
        "id": "RcfbUBZ8_fPu",
        "colab_type": "code",
        "colab": {
          "base_uri": "https://localhost:8080/",
          "height": 35
        },
        "outputId": "5d287548-88da-4b2c-bdf0-e82aa02ef64e"
      },
      "source": [
        "print(category_lines['Italian'][:5])"
      ],
      "execution_count": 15,
      "outputs": [
        {
          "output_type": "stream",
          "text": [
            "['Abandonato', 'Abatangelo', 'Abatantuono', 'Abate', 'Abategiovanni']\n"
          ],
          "name": "stdout"
        }
      ]
    },
    {
      "cell_type": "markdown",
      "metadata": {
        "id": "lQ18muY6HYa7",
        "colab_type": "text"
      },
      "source": [
        "##Implementing the Pytorch module"
      ]
    },
    {
      "cell_type": "code",
      "metadata": {
        "id": "LjbATaeA_kId",
        "colab_type": "code",
        "colab": {
          "base_uri": "https://localhost:8080/",
          "height": 108
        },
        "outputId": "8b60d7b4-446f-41b4-eb67-cfebd9e56d3a"
      },
      "source": [
        "import torch\n",
        "\n",
        "# Find letter index from all_letters, e.g. \"a\" = 0\n",
        "def letterToIndex(letter):\n",
        "    return all_letters.find(letter)\n",
        "\n",
        "# Just for demonstration, turn a letter into a <1 x n_letters> Tensor\n",
        "def letterToTensor(letter):\n",
        "    tensor = torch.zeros(1, n_letters)\n",
        "    tensor[0][letterToIndex(letter)] = 1\n",
        "    return tensor\n",
        "\n",
        "# Turn a line into a <line_length x 1 x n_letters>,\n",
        "# or an array of one-hot letter vectors\n",
        "def lineToTensor(line):\n",
        "    tensor = torch.zeros(len(line), 1, n_letters)\n",
        "    for li, letter in enumerate(line):\n",
        "        tensor[li][0][letterToIndex(letter)] = 1\n",
        "    return tensor\n",
        "\n",
        "print(letterToTensor('J'))\n",
        "\n",
        "print(lineToTensor('Jones').size())"
      ],
      "execution_count": 16,
      "outputs": [
        {
          "output_type": "stream",
          "text": [
            "tensor([[0., 0., 0., 0., 0., 0., 0., 0., 0., 0., 0., 0., 0., 0., 0., 0., 0., 0.,\n",
            "         0., 0., 0., 0., 0., 0., 0., 0., 0., 0., 0., 0., 0., 0., 0., 0., 0., 1.,\n",
            "         0., 0., 0., 0., 0., 0., 0., 0., 0., 0., 0., 0., 0., 0., 0., 0., 0., 0.,\n",
            "         0., 0., 0.]])\n",
            "torch.Size([5, 1, 57])\n"
          ],
          "name": "stdout"
        }
      ]
    },
    {
      "cell_type": "markdown",
      "metadata": {
        "id": "21gdBLV6Hfm0",
        "colab_type": "text"
      },
      "source": [
        "##Defining the model"
      ]
    },
    {
      "cell_type": "code",
      "metadata": {
        "id": "9yZsyQieBI03",
        "colab_type": "code",
        "colab": {}
      },
      "source": [
        "import torch.nn as nn\n",
        "\n",
        "class RNN(nn.Module):\n",
        "    def __init__(self, input_size, hidden_size, output_size):\n",
        "        super(RNN, self).__init__()\n",
        "\n",
        "        self.hidden_size = hidden_size\n",
        "\n",
        "        self.i2h = nn.Linear(input_size + hidden_size, hidden_size)\n",
        "        self.i2o = nn.Linear(input_size + hidden_size, output_size)\n",
        "        self.softmax = nn.LogSoftmax(dim=1)\n",
        "\n",
        "    def forward(self, input, hidden):\n",
        "        combined = torch.cat((input, hidden), 1)\n",
        "        hidden = self.i2h(combined)\n",
        "        output = self.i2o(combined)\n",
        "        output = self.softmax(output)\n",
        "        return output, hidden\n",
        "\n",
        "    def initHidden(self):\n",
        "        return torch.zeros(1, self.hidden_size)\n",
        "\n",
        "\n"
      ],
      "execution_count": 0,
      "outputs": []
    },
    {
      "cell_type": "code",
      "metadata": {
        "id": "kFsm_HlVCT4B",
        "colab_type": "code",
        "colab": {}
      },
      "source": [
        "n_hidden = 128\n",
        "rnn = RNN(n_letters, n_hidden, n_categories)\n",
        "#To run a step of this network we need to pass an input (in our case, the Tensor for the current letter) and a previous hidden state (which we initialize as zeros at first). We’ll get back the output (probability of each language) and a next hidden state (which we keep for the next step).\n"
      ],
      "execution_count": 0,
      "outputs": []
    },
    {
      "cell_type": "code",
      "metadata": {
        "id": "8C6iedkACYHv",
        "colab_type": "code",
        "colab": {
          "base_uri": "https://localhost:8080/",
          "height": 126
        },
        "outputId": "4bd0461e-9d35-43c0-ff8b-ac967030adf8"
      },
      "source": [
        "input = letterToTensor('A')\n",
        "hidden =torch.zeros(1, n_hidden)\n",
        "\n",
        "output, next_hidden = rnn(input, hidden)\n",
        "print(output)\n",
        "#For the sake of efficiency we don’t want to be creating a new Tensor for every step, so we will use lineToTensor instead of letterToTensor and use slices. This could be further optimized by pre-computing batches of Tensors.\n",
        "\n",
        "input = lineToTensor('Albert')\n",
        "hidden = torch.zeros(1, n_hidden)\n",
        "\n",
        "output, next_hidden = rnn(input[0], hidden)\n",
        "print(output)"
      ],
      "execution_count": 19,
      "outputs": [
        {
          "output_type": "stream",
          "text": [
            "tensor([[-2.9009, -2.9183, -2.9800, -2.8099, -2.8569, -2.8591, -2.9697, -2.8162,\n",
            "         -2.8395, -2.9457, -2.8619, -2.9377, -2.8123, -2.8699, -2.9192, -2.9819,\n",
            "         -2.8656, -2.9091]], grad_fn=<LogSoftmaxBackward>)\n",
            "tensor([[-2.9009, -2.9183, -2.9800, -2.8099, -2.8569, -2.8591, -2.9697, -2.8162,\n",
            "         -2.8395, -2.9457, -2.8619, -2.9377, -2.8123, -2.8699, -2.9192, -2.9819,\n",
            "         -2.8656, -2.9091]], grad_fn=<LogSoftmaxBackward>)\n"
          ],
          "name": "stdout"
        }
      ]
    },
    {
      "cell_type": "code",
      "metadata": {
        "id": "ZeQJDKeRC_BL",
        "colab_type": "code",
        "colab": {
          "base_uri": "https://localhost:8080/",
          "height": 35
        },
        "outputId": "2042aa8b-784c-4910-d87f-4ebdbde84569"
      },
      "source": [
        "#use Tensor.topk to get the index of the greatest value:\n",
        "def categoryFromOutput(output):\n",
        "    top_n, top_i = output.topk(1)\n",
        "    category_i = top_i[0].item()\n",
        "    return all_categories[category_i], category_i\n",
        "\n",
        "print(categoryFromOutput(output))"
      ],
      "execution_count": 20,
      "outputs": [
        {
          "output_type": "stream",
          "text": [
            "('Polish', 3)\n"
          ],
          "name": "stdout"
        }
      ]
    },
    {
      "cell_type": "code",
      "metadata": {
        "id": "9gLRmZQQDiwG",
        "colab_type": "code",
        "colab": {
          "base_uri": "https://localhost:8080/",
          "height": 199
        },
        "outputId": "78206abc-3678-40f7-9357-1f34da97da4e"
      },
      "source": [
        "import random\n",
        "\n",
        "def randomChoice(l):\n",
        "    return l[random.randint(0, len(l) - 1)]\n",
        "\n",
        "def randomTrainingExample():\n",
        "    category = randomChoice(all_categories)\n",
        "    line = randomChoice(category_lines[category])\n",
        "    category_tensor = torch.tensor([all_categories.index(category)], dtype=torch.long)\n",
        "    line_tensor = lineToTensor(line)\n",
        "    return category, line, category_tensor, line_tensor\n",
        "\n",
        "for i in range(10):\n",
        "    category, line, category_tensor, line_tensor = randomTrainingExample()\n",
        "    print('category =', category, '/ line =', line)"
      ],
      "execution_count": 21,
      "outputs": [
        {
          "output_type": "stream",
          "text": [
            "category = Irish / line = Meadhra\n",
            "category = Italian / line = Coiro\n",
            "category = Japanese / line = Abe\n",
            "category = Spanish / line = Hierro\n",
            "category = Japanese / line = Saionji\n",
            "category = German / line = Tillens\n",
            "category = Russian / line = Markholenko\n",
            "category = Vietnamese / line = Ha\n",
            "category = Scottish / line = Gordon\n",
            "category = Czech / line = Janca\n"
          ],
          "name": "stdout"
        }
      ]
    },
    {
      "cell_type": "markdown",
      "metadata": {
        "id": "x2cC7nGUHlb3",
        "colab_type": "text"
      },
      "source": [
        "##Loss Function"
      ]
    },
    {
      "cell_type": "code",
      "metadata": {
        "id": "s-yfG-3aEKll",
        "colab_type": "code",
        "colab": {}
      },
      "source": [
        "#Implementing the Loss Function. Since the last layer is a softmax\n",
        "criterion = nn.NLLLoss()"
      ],
      "execution_count": 0,
      "outputs": []
    },
    {
      "cell_type": "markdown",
      "metadata": {
        "id": "F4H2D4z-FYVG",
        "colab_type": "text"
      },
      "source": [
        "##Begin Training\n",
        "Each loop of training will:\n",
        "\n",
        "* Create input and target tensors\n",
        "* Create a zeroed initial hidden state\n",
        "* Read each letter in and\n",
        "* Keep hidden state for next letter\n",
        "* Compare final output to target\n",
        "* Back-propagate\n",
        "* Return the output and loss\n",
        "\n"
      ]
    },
    {
      "cell_type": "code",
      "metadata": {
        "id": "Crz4bVvUFaP8",
        "colab_type": "code",
        "colab": {}
      },
      "source": [
        "learning_rate = 0.005 # If you set this too high, it might explode. If too low, it might not learn\n",
        "\n",
        "def train(category_tensor, line_tensor):\n",
        "    hidden = rnn.initHidden()\n",
        "\n",
        "    rnn.zero_grad()\n",
        "\n",
        "    for i in range(line_tensor.size()[0]):\n",
        "        output, hidden = rnn(line_tensor[i], hidden)\n",
        "\n",
        "    loss = criterion(output, category_tensor)\n",
        "    loss.backward()\n",
        "\n",
        "    # Add parameters' gradients to their values, multiplied by learning rate\n",
        "    for p in rnn.parameters():\n",
        "        p.data.add_(-learning_rate, p.grad.data)\n",
        "\n",
        "    return output, loss.item()"
      ],
      "execution_count": 0,
      "outputs": []
    },
    {
      "cell_type": "code",
      "metadata": {
        "id": "aoinPcxgGAQw",
        "colab_type": "code",
        "colab": {
          "base_uri": "https://localhost:8080/",
          "height": 381
        },
        "outputId": "04f61586-d443-4512-e401-5be49dd7ac85"
      },
      "source": [
        "import time\n",
        "import math\n",
        "\n",
        "n_iters = 100000\n",
        "print_every = 5000\n",
        "plot_every = 1000\n",
        "\n",
        "\n",
        "\n",
        "# Keep track of losses for plotting\n",
        "current_loss = 0\n",
        "all_losses = []\n",
        "\n",
        "def timeSince(since):\n",
        "    now = time.time()\n",
        "    s = now - since\n",
        "    m = math.floor(s / 60)\n",
        "    s -= m * 60\n",
        "    return '%dm %ds' % (m, s)\n",
        "\n",
        "start = time.time()\n",
        "\n",
        "for iter in range(1, n_iters + 1):\n",
        "    category, line, category_tensor, line_tensor = randomTrainingExample()\n",
        "    output, loss = train(category_tensor, line_tensor)\n",
        "    current_loss += loss\n",
        "\n",
        "    # Print iter number, loss, name and guess\n",
        "    if iter % print_every == 0:\n",
        "        guess, guess_i = categoryFromOutput(output)\n",
        "        correct = '✓' if guess == category else '✗ (%s)' % category\n",
        "        print('%d %d%% (%s) %.4f %s / %s %s' % (iter, iter / n_iters * 100, timeSince(start), loss, line, guess, correct))\n",
        "\n",
        "    # Add current loss avg to list of losses\n",
        "    if iter % plot_every == 0:\n",
        "        all_losses.append(current_loss / plot_every)\n",
        "        current_loss = 0"
      ],
      "execution_count": 28,
      "outputs": [
        {
          "output_type": "stream",
          "text": [
            "5000 5% (0m 6s) 1.0069 Vedenyapin / Russian ✓\n",
            "10000 10% (0m 13s) 1.2785 Exley / English ✓\n",
            "15000 15% (0m 19s) 1.2485 Bokhoven / Dutch ✓\n",
            "20000 20% (0m 26s) 1.3930 Pasternak / Polish ✓\n",
            "25000 25% (0m 33s) 0.2573 Gwozdek / Polish ✓\n",
            "30000 30% (0m 39s) 1.0536 Bleier / German ✓\n",
            "35000 35% (0m 46s) 1.5016 Scolaidhe / Irish ✓\n",
            "40000 40% (0m 52s) 3.2710 Gwock / Korean ✗ (Chinese)\n",
            "45000 45% (0m 59s) 1.7032 Shum / Korean ✗ (Chinese)\n",
            "50000 50% (1m 6s) 0.2060 Vu / Vietnamese ✓\n",
            "55000 55% (1m 13s) 3.1214 Dolejsi / Italian ✗ (Czech)\n",
            "60000 60% (1m 19s) 0.3419 Ko / Korean ✓\n",
            "65000 65% (1m 26s) 1.5533 Tzel'Ko / Japanese ✗ (Russian)\n",
            "70000 70% (1m 32s) 1.6498 Stewart / English ✗ (Scottish)\n",
            "75000 75% (1m 39s) 0.1284 Ferguson / Scottish ✓\n",
            "80000 80% (1m 46s) 0.6654 Veverka / Czech ✓\n",
            "85000 85% (1m 52s) 0.6590 Beringer / French ✓\n",
            "90000 90% (1m 59s) 0.1744 Xydis / Greek ✓\n",
            "95000 95% (2m 6s) 1.3141 Sokolofsky / Russian ✗ (Polish)\n",
            "100000 100% (2m 13s) 2.2307 Terrazas / Greek ✗ (Spanish)\n"
          ],
          "name": "stdout"
        }
      ]
    },
    {
      "cell_type": "markdown",
      "metadata": {
        "id": "e-GQQr5bGjiu",
        "colab_type": "text"
      },
      "source": [
        "##Plot of the results"
      ]
    },
    {
      "cell_type": "code",
      "metadata": {
        "id": "XJ4gA9zcGW_M",
        "colab_type": "code",
        "colab": {
          "base_uri": "https://localhost:8080/",
          "height": 283
        },
        "outputId": "ecfe2abc-e02e-49c4-dc2d-a58d37e1820d"
      },
      "source": [
        "import matplotlib.pyplot as plt\n",
        "import matplotlib.ticker as ticker\n",
        "\n",
        "plt.figure()\n",
        "plt.plot(all_losses)"
      ],
      "execution_count": 29,
      "outputs": [
        {
          "output_type": "execute_result",
          "data": {
            "text/plain": [
              "[<matplotlib.lines.Line2D at 0x7f540879a748>]"
            ]
          },
          "metadata": {
            "tags": []
          },
          "execution_count": 29
        },
        {
          "output_type": "display_data",
          "data": {
            "image/png": "[encoded data removed]",
            "text/plain": [
              "<Figure size 432x288 with 1 Axes>"
            ]
          },
          "metadata": {
            "tags": []
          }
        }
      ]
    },
    {
      "cell_type": "markdown",
      "metadata": {
        "id": "mnOTvufpGmj_",
        "colab_type": "text"
      },
      "source": [
        "##Results Evaluation"
      ]
    },
    {
      "cell_type": "code",
      "metadata": {
        "id": "gYblbqDgGtD_",
        "colab_type": "code",
        "colab": {
          "base_uri": "https://localhost:8080/",
          "height": 321
        },
        "outputId": "cb4261f3-a1e3-491b-85d1-1ccc1afcc2a5"
      },
      "source": [
        "# Keep track of correct guesses in a confusion matrix\n",
        "confusion = torch.zeros(n_categories, n_categories)\n",
        "n_confusion = 10000\n",
        "\n",
        "# Just return an output given a line\n",
        "def evaluate(line_tensor):\n",
        "    hidden = rnn.initHidden()\n",
        "\n",
        "    for i in range(line_tensor.size()[0]):\n",
        "        output, hidden = rnn(line_tensor[i], hidden)\n",
        "\n",
        "    return output\n",
        "\n",
        "# Go through a bunch of examples and record which are correctly guessed\n",
        "for i in range(n_confusion):\n",
        "    category, line, category_tensor, line_tensor = randomTrainingExample()\n",
        "    output = evaluate(line_tensor)\n",
        "    guess, guess_i = categoryFromOutput(output)\n",
        "    category_i = all_categories.index(category)\n",
        "    confusion[category_i][guess_i] += 1\n",
        "\n",
        "# Normalize by dividing every row by its sum\n",
        "for i in range(n_categories):\n",
        "    confusion[i] = confusion[i] / confusion[i].sum()\n",
        "\n",
        "# Set up plot\n",
        "fig = plt.figure()\n",
        "ax = fig.add_subplot(111)\n",
        "cax = ax.matshow(confusion.numpy())\n",
        "fig.colorbar(cax)\n",
        "\n",
        "# Set up axes\n",
        "ax.set_xticklabels([''] + all_categories, rotation=90)\n",
        "ax.set_yticklabels([''] + all_categories)\n",
        "\n",
        "# Force label at every tick\n",
        "ax.xaxis.set_major_locator(ticker.MultipleLocator(1))\n",
        "ax.yaxis.set_major_locator(ticker.MultipleLocator(1))\n",
        "\n",
        "# sphinx_gallery_thumbnail_number = 2\n",
        "plt.show()"
      ],
      "execution_count": 30,
      "outputs": [
        {
          "output_type": "display_data",
          "data": {
            "image/png": "[encoded data removed]",
            "text/plain": [
              "<Figure size 432x288 with 2 Axes>"
            ]
          },
          "metadata": {
            "tags": []
          }
        }
      ]
    },
    {
      "cell_type": "markdown",
      "metadata": {
        "id": "xQ1kJcVoG1JV",
        "colab_type": "text"
      },
      "source": [
        "##Try the model on test set (Here, User Input)"
      ]
    },
    {
      "cell_type": "code",
      "metadata": {
        "id": "INgy3wPjG5_b",
        "colab_type": "code",
        "colab": {
          "base_uri": "https://localhost:8080/",
          "height": 290
        },
        "outputId": "4a11f72c-26ea-4f69-9cbd-d4094662e25c"
      },
      "source": [
        "def predict(input_line, n_predictions=3):\n",
        "    print('\\n> %s' % input_line)\n",
        "    with torch.no_grad():\n",
        "        output = evaluate(lineToTensor(input_line))\n",
        "\n",
        "        # Get top N categories\n",
        "        topv, topi = output.topk(n_predictions, 1, True)\n",
        "        predictions = []\n",
        "\n",
        "        for i in range(n_predictions):\n",
        "            value = topv[0][i].item()\n",
        "            category_index = topi[0][i].item()\n",
        "            print('(%.2f) %s' % (value, all_categories[category_index]))\n",
        "            predictions.append([value, all_categories[category_index]])\n",
        "\n",
        "predict('Brian')\n",
        "predict('Ahmed')\n",
        "predict('Salman')"
      ],
      "execution_count": 31,
      "outputs": [
        {
          "output_type": "stream",
          "text": [
            "\n",
            "> Brian\n",
            "(-1.02) Scottish\n",
            "(-1.81) Vietnamese\n",
            "(-2.17) Irish\n",
            "\n",
            "> Ahmed\n",
            "(-0.38) Arabic\n",
            "(-2.10) German\n",
            "(-2.95) French\n",
            "\n",
            "> Salman\n",
            "(-0.96) Irish\n",
            "(-2.13) French\n",
            "(-2.21) Arabic\n"
          ],
          "name": "stdout"
        }
      ]
    }
  ]
}