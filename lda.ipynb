{
  "nbformat": 4,
  "nbformat_minor": 0,
  "metadata": {
    "colab": {
      "name": "lda.ipynb",
      "version": "0.3.2",
      "provenance": [],
      "include_colab_link": true
    },
    "kernelspec": {
      "name": "python3",
      "display_name": "Python 3"
    }
  },
  "cells": [
    {
      "cell_type": "markdown",
      "metadata": {
        "id": "view-in-github",
        "colab_type": "text"
      },
      "source": [
        "<a href=\"https://colab.research.google.com/github/VindhyaSRajan/NLP-Projects/blob/master/lda.ipynb\" target=\"_parent\"><img src=\"https://colab.research.google.com/assets/colab-badge.svg\" alt=\"Open In Colab\"/></a>"
      ]
    },
    {
      "cell_type": "markdown",
      "metadata": {
        "id": "pHhAp__omgD2",
        "colab_type": "text"
      },
      "source": [
        "**Installations**"
      ]
    },
    {
      "cell_type": "code",
      "metadata": {
        "id": "DXge3_nTmIH1",
        "colab_type": "code",
        "colab": {
          "base_uri": "https://localhost:8080/",
          "height": 188
        },
        "outputId": "5af18ba2-9807-40b7-c593-464609340fa4"
      },
      "source": [
        "!pip install lda"
      ],
      "execution_count": 2,
      "outputs": [
        {
          "output_type": "stream",
          "text": [
            "Collecting lda\n",
            "\u001b[?25l  Downloading https://files.pythonhosted.org/packages/fd/27/d62628d914bff7f048e2b433c3adea9e7072fa20028f1d4194999051cd9d/lda-1.1.0-cp36-cp36m-manylinux1_x86_64.whl (348kB)\n",
            "\u001b[K     |████████████████████████████████| 358kB 2.8MB/s \n",
            "\u001b[?25hCollecting pbr<4,>=0.6 (from lda)\n",
            "\u001b[?25l  Downloading https://files.pythonhosted.org/packages/0c/5d/b077dbf309993d52c1d71e6bf6fe443a8029ea215135ebbe0b1b10e7aefc/pbr-3.1.1-py2.py3-none-any.whl (99kB)\n",
            "\u001b[K     |████████████████████████████████| 102kB 27.5MB/s \n",
            "\u001b[?25hRequirement already satisfied: numpy<2.0,>=1.13.0 in /usr/local/lib/python3.6/dist-packages (from lda) (1.16.5)\n",
            "Installing collected packages: pbr, lda\n",
            "Successfully installed lda-1.1.0 pbr-3.1.1\n"
          ],
          "name": "stdout"
        }
      ]
    },
    {
      "cell_type": "markdown",
      "metadata": {
        "id": "X_FfUob9iSLc",
        "colab_type": "text"
      },
      "source": [
        "**All the Imports go here**"
      ]
    },
    {
      "cell_type": "code",
      "metadata": {
        "id": "a-4ErBpUiO7k",
        "colab_type": "code",
        "colab": {}
      },
      "source": [
        "import numpy as np\n",
        "import gensim\n",
        "import lda\n",
        "import lda.datasets"
      ],
      "execution_count": 0,
      "outputs": []
    },
    {
      "cell_type": "markdown",
      "metadata": {
        "id": "xyYF8ZBWmYRb",
        "colab_type": "text"
      },
      "source": [
        "**Data Load**"
      ]
    },
    {
      "cell_type": "code",
      "metadata": {
        "id": "hsB15Fi-i7N0",
        "colab_type": "code",
        "colab": {}
      },
      "source": [
        "X = lda.datasets.load_reuters()\n",
        "vocab = lda.datasets.load_reuters_vocab()\n",
        "titles = lda.datasets.load_reuters_titles()"
      ],
      "execution_count": 0,
      "outputs": []
    },
    {
      "cell_type": "markdown",
      "metadata": {
        "id": "542Fm0mtmnqh",
        "colab_type": "text"
      },
      "source": [
        "**Data Exploration**"
      ]
    },
    {
      "cell_type": "code",
      "metadata": {
        "id": "Qg-HotBoi8zc",
        "colab_type": "code",
        "colab": {
          "base_uri": "https://localhost:8080/",
          "height": 34
        },
        "outputId": "53341dcd-093b-499e-ee38-62a19f598c1f"
      },
      "source": [
        "X.shape"
      ],
      "execution_count": 5,
      "outputs": [
        {
          "output_type": "execute_result",
          "data": {
            "text/plain": [
              "(395, 4258)"
            ]
          },
          "metadata": {
            "tags": []
          },
          "execution_count": 5
        }
      ]
    },
    {
      "cell_type": "code",
      "metadata": {
        "id": "wFd200iwjlGR",
        "colab_type": "code",
        "colab": {
          "base_uri": "https://localhost:8080/",
          "height": 34
        },
        "outputId": "5f2fe186-cd8e-438b-bf94-ee4549a45c09"
      },
      "source": [
        "X.sum()"
      ],
      "execution_count": 6,
      "outputs": [
        {
          "output_type": "execute_result",
          "data": {
            "text/plain": [
              "84010"
            ]
          },
          "metadata": {
            "tags": []
          },
          "execution_count": 6
        }
      ]
    },
    {
      "cell_type": "code",
      "metadata": {
        "id": "Ate5-3Qzms1-",
        "colab_type": "code",
        "colab": {
          "base_uri": "https://localhost:8080/",
          "height": 101
        },
        "outputId": "5192d63e-eb71-4610-ad8f-d235efb64416"
      },
      "source": [
        "X[:5]"
      ],
      "execution_count": 12,
      "outputs": [
        {
          "output_type": "execute_result",
          "data": {
            "text/plain": [
              "array([[1, 0, 1, ..., 0, 0, 0],\n",
              "       [7, 0, 2, ..., 0, 0, 0],\n",
              "       [0, 0, 0, ..., 0, 0, 0],\n",
              "       [6, 0, 1, ..., 0, 0, 0],\n",
              "       [0, 0, 0, ..., 0, 0, 0]], dtype=int32)"
            ]
          },
          "metadata": {
            "tags": []
          },
          "execution_count": 12
        }
      ]
    },
    {
      "cell_type": "markdown",
      "metadata": {
        "id": "oOEvbl_wnbJQ",
        "colab_type": "text"
      },
      "source": [
        "**LDA Modelling**"
      ]
    },
    {
      "cell_type": "code",
      "metadata": {
        "id": "LvilgQaHjpQ-",
        "colab_type": "code",
        "colab": {
          "base_uri": "https://localhost:8080/",
          "height": 1000
        },
        "outputId": "6459a1bf-6fd6-4b0c-c061-a4c3c6411802"
      },
      "source": [
        "model = lda.LDA(n_topics = 20,n_iter=1500, random_state=1)\n",
        "model.fit(X)\n",
        "topic_word = model.topic_word_\n",
        "n_topic_topwords = 8\n",
        "for i, topic_dist in enumerate(topic_word):\n",
        "     topic_words = np.array(vocab)[np.argsort(topic_dist)][:-(n_topic_topwords+1):-1]\n",
        "     print('Topic {}: {}'.format(i, ' '.join(topic_words)))\n"
      ],
      "execution_count": 14,
      "outputs": [
        {
          "output_type": "stream",
          "text": [
            "INFO:lda:n_documents: 395\n",
            "INFO:lda:vocab_size: 4258\n",
            "INFO:lda:n_words: 84010\n",
            "INFO:lda:n_topics: 20\n",
            "INFO:lda:n_iter: 1500\n",
            "INFO:lda:<0> log likelihood: -1051748\n",
            "INFO:lda:<10> log likelihood: -719800\n",
            "INFO:lda:<20> log likelihood: -699115\n",
            "INFO:lda:<30> log likelihood: -689370\n",
            "INFO:lda:<40> log likelihood: -684918\n",
            "INFO:lda:<50> log likelihood: -681322\n",
            "INFO:lda:<60> log likelihood: -678979\n",
            "INFO:lda:<70> log likelihood: -676598\n",
            "INFO:lda:<80> log likelihood: -675383\n",
            "INFO:lda:<90> log likelihood: -673316\n",
            "INFO:lda:<100> log likelihood: -672761\n",
            "INFO:lda:<110> log likelihood: -671320\n",
            "INFO:lda:<120> log likelihood: -669744\n",
            "INFO:lda:<130> log likelihood: -669292\n",
            "INFO:lda:<140> log likelihood: -667940\n",
            "INFO:lda:<150> log likelihood: -668038\n",
            "INFO:lda:<160> log likelihood: -667429\n",
            "INFO:lda:<170> log likelihood: -666475\n",
            "INFO:lda:<180> log likelihood: -665562\n",
            "INFO:lda:<190> log likelihood: -664920\n",
            "INFO:lda:<200> log likelihood: -664979\n",
            "INFO:lda:<210> log likelihood: -664722\n",
            "INFO:lda:<220> log likelihood: -664459\n",
            "INFO:lda:<230> log likelihood: -664360\n",
            "INFO:lda:<240> log likelihood: -663600\n",
            "INFO:lda:<250> log likelihood: -664164\n",
            "INFO:lda:<260> log likelihood: -663826\n",
            "INFO:lda:<270> log likelihood: -663458\n",
            "INFO:lda:<280> log likelihood: -663393\n",
            "INFO:lda:<290> log likelihood: -662904\n",
            "INFO:lda:<300> log likelihood: -662294\n",
            "INFO:lda:<310> log likelihood: -662031\n",
            "INFO:lda:<320> log likelihood: -662430\n",
            "INFO:lda:<330> log likelihood: -661601\n",
            "INFO:lda:<340> log likelihood: -662108\n",
            "INFO:lda:<350> log likelihood: -662152\n",
            "INFO:lda:<360> log likelihood: -661899\n",
            "INFO:lda:<370> log likelihood: -661012\n",
            "INFO:lda:<380> log likelihood: -661278\n",
            "INFO:lda:<390> log likelihood: -661085\n",
            "INFO:lda:<400> log likelihood: -660418\n",
            "INFO:lda:<410> log likelihood: -660510\n",
            "INFO:lda:<420> log likelihood: -660343\n",
            "INFO:lda:<430> log likelihood: -659789\n",
            "INFO:lda:<440> log likelihood: -659336\n",
            "INFO:lda:<450> log likelihood: -659039\n",
            "INFO:lda:<460> log likelihood: -659329\n",
            "INFO:lda:<470> log likelihood: -658707\n",
            "INFO:lda:<480> log likelihood: -658879\n",
            "INFO:lda:<490> log likelihood: -658819\n",
            "INFO:lda:<500> log likelihood: -658407\n",
            "INFO:lda:<510> log likelihood: -658651\n",
            "INFO:lda:<520> log likelihood: -658111\n",
            "INFO:lda:<530> log likelihood: -658018\n",
            "INFO:lda:<540> log likelihood: -658111\n",
            "INFO:lda:<550> log likelihood: -657925\n",
            "INFO:lda:<560> log likelihood: -657860\n",
            "INFO:lda:<570> log likelihood: -657494\n",
            "INFO:lda:<580> log likelihood: -657723\n",
            "INFO:lda:<590> log likelihood: -657591\n",
            "INFO:lda:<600> log likelihood: -657557\n",
            "INFO:lda:<610> log likelihood: -657505\n",
            "INFO:lda:<620> log likelihood: -657730\n",
            "INFO:lda:<630> log likelihood: -657304\n",
            "INFO:lda:<640> log likelihood: -657208\n",
            "INFO:lda:<650> log likelihood: -657518\n",
            "INFO:lda:<660> log likelihood: -657541\n",
            "INFO:lda:<670> log likelihood: -657381\n",
            "INFO:lda:<680> log likelihood: -657575\n",
            "INFO:lda:<690> log likelihood: -656985\n",
            "INFO:lda:<700> log likelihood: -656815\n",
            "INFO:lda:<710> log likelihood: -656930\n",
            "INFO:lda:<720> log likelihood: -656538\n",
            "INFO:lda:<730> log likelihood: -656291\n",
            "INFO:lda:<740> log likelihood: -656417\n",
            "INFO:lda:<750> log likelihood: -656747\n",
            "INFO:lda:<760> log likelihood: -656600\n",
            "INFO:lda:<770> log likelihood: -656269\n",
            "INFO:lda:<780> log likelihood: -656311\n",
            "INFO:lda:<790> log likelihood: -656069\n",
            "INFO:lda:<800> log likelihood: -656228\n",
            "INFO:lda:<810> log likelihood: -656178\n",
            "INFO:lda:<820> log likelihood: -655694\n",
            "INFO:lda:<830> log likelihood: -655997\n",
            "INFO:lda:<840> log likelihood: -656224\n",
            "INFO:lda:<850> log likelihood: -656197\n",
            "INFO:lda:<860> log likelihood: -655889\n",
            "INFO:lda:<870> log likelihood: -656180\n",
            "INFO:lda:<880> log likelihood: -656997\n",
            "INFO:lda:<890> log likelihood: -655989\n",
            "INFO:lda:<900> log likelihood: -655615\n",
            "INFO:lda:<910> log likelihood: -655584\n",
            "INFO:lda:<920> log likelihood: -656602\n",
            "INFO:lda:<930> log likelihood: -656083\n",
            "INFO:lda:<940> log likelihood: -656294\n",
            "INFO:lda:<950> log likelihood: -656257\n",
            "INFO:lda:<960> log likelihood: -656243\n",
            "INFO:lda:<970> log likelihood: -656028\n",
            "INFO:lda:<980> log likelihood: -655603\n",
            "INFO:lda:<990> log likelihood: -656012\n",
            "INFO:lda:<1000> log likelihood: -655849\n",
            "INFO:lda:<1010> log likelihood: -655376\n",
            "INFO:lda:<1020> log likelihood: -655417\n",
            "INFO:lda:<1030> log likelihood: -655856\n",
            "INFO:lda:<1040> log likelihood: -655197\n",
            "INFO:lda:<1050> log likelihood: -655938\n",
            "INFO:lda:<1060> log likelihood: -655529\n",
            "INFO:lda:<1070> log likelihood: -655092\n",
            "INFO:lda:<1080> log likelihood: -655119\n",
            "INFO:lda:<1090> log likelihood: -656215\n",
            "INFO:lda:<1100> log likelihood: -655602\n",
            "INFO:lda:<1110> log likelihood: -655296\n",
            "INFO:lda:<1120> log likelihood: -655547\n",
            "INFO:lda:<1130> log likelihood: -655580\n",
            "INFO:lda:<1140> log likelihood: -655604\n",
            "INFO:lda:<1150> log likelihood: -655168\n",
            "INFO:lda:<1160> log likelihood: -655281\n",
            "INFO:lda:<1170> log likelihood: -655409\n",
            "INFO:lda:<1180> log likelihood: -655517\n",
            "INFO:lda:<1190> log likelihood: -654922\n",
            "INFO:lda:<1200> log likelihood: -655304\n",
            "INFO:lda:<1210> log likelihood: -655852\n",
            "INFO:lda:<1220> log likelihood: -655184\n",
            "INFO:lda:<1230> log likelihood: -655650\n",
            "INFO:lda:<1240> log likelihood: -655606\n",
            "INFO:lda:<1250> log likelihood: -656086\n",
            "INFO:lda:<1260> log likelihood: -655698\n",
            "INFO:lda:<1270> log likelihood: -655351\n",
            "INFO:lda:<1280> log likelihood: -655686\n",
            "INFO:lda:<1290> log likelihood: -654801\n",
            "INFO:lda:<1300> log likelihood: -654973\n",
            "INFO:lda:<1310> log likelihood: -655186\n",
            "INFO:lda:<1320> log likelihood: -655128\n",
            "INFO:lda:<1330> log likelihood: -655365\n",
            "INFO:lda:<1340> log likelihood: -655338\n",
            "INFO:lda:<1350> log likelihood: -655219\n",
            "INFO:lda:<1360> log likelihood: -655115\n",
            "INFO:lda:<1370> log likelihood: -654930\n",
            "INFO:lda:<1380> log likelihood: -655209\n",
            "INFO:lda:<1390> log likelihood: -654940\n",
            "INFO:lda:<1400> log likelihood: -655055\n",
            "INFO:lda:<1410> log likelihood: -655286\n",
            "INFO:lda:<1420> log likelihood: -655316\n",
            "INFO:lda:<1430> log likelihood: -655257\n",
            "INFO:lda:<1440> log likelihood: -654964\n",
            "INFO:lda:<1450> log likelihood: -654884\n",
            "INFO:lda:<1460> log likelihood: -655493\n",
            "INFO:lda:<1470> log likelihood: -655415\n",
            "INFO:lda:<1480> log likelihood: -655192\n",
            "INFO:lda:<1490> log likelihood: -655728\n",
            "INFO:lda:<1499> log likelihood: -655858\n"
          ],
          "name": "stderr"
        },
        {
          "output_type": "stream",
          "text": [
            "Topic 0: british churchill sale million major letters west britain\n",
            "Topic 1: church government political country state people party against\n",
            "Topic 2: elvis king fans presley life concert young death\n",
            "Topic 3: yeltsin russian russia president kremlin moscow michael operation\n",
            "Topic 4: pope vatican paul john surgery hospital pontiff rome\n",
            "Topic 5: family funeral police miami versace cunanan city service\n",
            "Topic 6: simpson former years court president wife south church\n",
            "Topic 7: order mother successor election nuns church nirmala head\n",
            "Topic 8: charles prince diana royal king queen parker bowles\n",
            "Topic 9: film french france against bardot paris poster animal\n",
            "Topic 10: germany german war nazi letter christian book jews\n",
            "Topic 11: east peace prize award timor quebec belo leader\n",
            "Topic 12: n't life show told very love television father\n",
            "Topic 13: years year time last church world people say\n",
            "Topic 14: mother teresa heart calcutta charity nun hospital missionaries\n",
            "Topic 15: city salonika capital buddhist cultural vietnam byzantine show\n",
            "Topic 16: music tour opera singer israel people film israeli\n",
            "Topic 17: church catholic bernardin cardinal bishop wright death cancer\n",
            "Topic 18: harriman clinton u.s ambassador paris president churchill france\n",
            "Topic 19: city museum art exhibition century million churches set\n"
          ],
          "name": "stdout"
        }
      ]
    },
    {
      "cell_type": "code",
      "metadata": {
        "id": "5tmM-w_xly5s",
        "colab_type": "code",
        "colab": {
          "base_uri": "https://localhost:8080/",
          "height": 185
        },
        "outputId": "5f8a298e-7cc7-4950-ef1a-eddc6eba2638"
      },
      "source": [
        "doc_topic = model.doc_topic_\n",
        "for i in range(10):\n",
        "   print(\"{} (top topic: {})\".format(titles[i], doc_topic[i].argmax()))"
      ],
      "execution_count": 15,
      "outputs": [
        {
          "output_type": "stream",
          "text": [
            "0 UK: Prince Charles spearheads British royal revolution. LONDON 1996-08-20 (top topic: 8)\n",
            "1 GERMANY: Historic Dresden church rising from WW2 ashes. DRESDEN, Germany 1996-08-21 (top topic: 13)\n",
            "2 INDIA: Mother Teresa's condition said still unstable. CALCUTTA 1996-08-23 (top topic: 14)\n",
            "3 UK: Palace warns British weekly over Charles pictures. LONDON 1996-08-25 (top topic: 8)\n",
            "4 INDIA: Mother Teresa, slightly stronger, blesses nuns. CALCUTTA 1996-08-25 (top topic: 14)\n",
            "5 INDIA: Mother Teresa's condition unchanged, thousands pray. CALCUTTA 1996-08-25 (top topic: 14)\n",
            "6 INDIA: Mother Teresa shows signs of strength, blesses nuns. CALCUTTA 1996-08-26 (top topic: 14)\n",
            "7 INDIA: Mother Teresa's condition improves, many pray. CALCUTTA, India 1996-08-25 (top topic: 14)\n",
            "8 INDIA: Mother Teresa improves, nuns pray for \"miracle\". CALCUTTA 1996-08-26 (top topic: 14)\n",
            "9 UK: Charles under fire over prospect of Queen Camilla. LONDON 1996-08-26 (top topic: 8)\n"
          ],
          "name": "stdout"
        }
      ]
    },
    {
      "cell_type": "markdown",
      "metadata": {
        "id": "tDyvXHYVipBS",
        "colab_type": "text"
      },
      "source": [
        ""
      ]
    }
  ]
}